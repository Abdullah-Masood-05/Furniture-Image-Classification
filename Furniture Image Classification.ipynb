{
 "cells": [
  {
   "cell_type": "code",
   "execution_count": null,
   "id": "db4fd877",
   "metadata": {},
   "outputs": [],
   "source": [
    "import numpy as np\n",
    "import matplotlib.pyplot as plt\n",
    "\n",
    "np.random.seed(42)"
   ]
  },
  {
   "cell_type": "markdown",
   "id": "b2378e62",
   "metadata": {},
   "source": [
    "#### Hyperparameters"
   ]
  },
  {
   "cell_type": "code",
   "execution_count": null,
   "id": "bef175e1",
   "metadata": {},
   "outputs": [],
   "source": [
    "HIDDEN_SIZE = 128\n",
    "LEARNING_RATE = 0.001\n",
    "EPOCHS = 75\n",
    "BATCH_SIZE = 32"
   ]
  },
  {
   "cell_type": "markdown",
   "id": "f34ced64",
   "metadata": {},
   "source": [
    "\n",
    "#### Load preprocessed data"
   ]
  },
  {
   "cell_type": "code",
   "execution_count": 4,
   "id": "15149df5",
   "metadata": {},
   "outputs": [],
   "source": [
    "X_train = np.load(\"X_train.npy\")\n",
    "y_train = np.load(\"y_train.npy\")\n",
    "X_test = np.load(\"X_test.npy\")\n",
    "y_test = np.load(\"y_test.npy\")"
   ]
  },
  {
   "cell_type": "markdown",
   "id": "87f409c0",
   "metadata": {},
   "source": [
    "#### Infer input and output sizes"
   ]
  },
  {
   "cell_type": "code",
   "execution_count": 5,
   "id": "7cd6bc1d",
   "metadata": {},
   "outputs": [],
   "source": [
    "INPUT_SIZE = X_train.shape[1]\n",
    "OUTPUT_SIZE = y_train.shape[1]"
   ]
  },
  {
   "cell_type": "markdown",
   "id": "d04334ea",
   "metadata": {},
   "source": [
    "#### Initialize weights with He initialization"
   ]
  },
  {
   "cell_type": "code",
   "execution_count": 6,
   "id": "4c7ba9cf",
   "metadata": {},
   "outputs": [],
   "source": [
    "W1 = np.random.randn(HIDDEN_SIZE, INPUT_SIZE) * np.sqrt(2.0 / INPUT_SIZE)\n",
    "b1 = np.zeros((HIDDEN_SIZE, 1))\n",
    "W2 = np.random.randn(OUTPUT_SIZE, HIDDEN_SIZE) * np.sqrt(2.0 / HIDDEN_SIZE)\n",
    "b2 = np.zeros((OUTPUT_SIZE, 1))"
   ]
  },
  {
   "cell_type": "markdown",
   "id": "184c7a3b",
   "metadata": {},
   "source": [
    "#### Initialize weights with He initialization"
   ]
  },
  {
   "cell_type": "code",
   "execution_count": 7,
   "id": "9f2cfc20",
   "metadata": {},
   "outputs": [],
   "source": [
    "def relu(Z):\n",
    "    return np.maximum(0, Z)\n",
    "\n",
    "\n",
    "def relu_derivative(Z):\n",
    "    return Z > 0\n",
    "\n",
    "\n",
    "def softmax(Z):\n",
    "    expZ = np.exp(Z - np.max(Z, axis=0))\n",
    "    return expZ / expZ.sum(axis=0, keepdims=True)\n",
    "\n",
    "\n",
    "def forward_propagation(X):\n",
    "    Z1 = np.dot(W1, X.T) + b1\n",
    "    A1 = relu(Z1)\n",
    "    Z2 = np.dot(W2, A1) + b2\n",
    "    A2 = softmax(Z2)\n",
    "    return A2, (Z1, A1, Z2, A2)\n",
    "\n",
    "\n",
    "def compute_loss(Y, A2):\n",
    "    m = Y.shape[0]\n",
    "    log_probs = -np.log(A2.T[np.arange(m), np.argmax(Y, axis=1)] + 1e-9)\n",
    "    return np.sum(log_probs) / m\n",
    "\n",
    "\n",
    "def backward_propagation(X, Y, cache):\n",
    "    Z1, A1, Z2, A2 = cache\n",
    "    m = X.shape[0]\n",
    "\n",
    "    dZ2 = A2.T - Y\n",
    "    dW2 = np.dot(dZ2.T, A1.T) / m\n",
    "    db2 = np.sum(dZ2.T, axis=1, keepdims=True) / m\n",
    "\n",
    "    dZ1 = np.dot(W2.T, dZ2.T) * relu_derivative(Z1)\n",
    "    dW1 = np.dot(dZ1, X) / m\n",
    "    db1 = np.sum(dZ1, axis=1, keepdims=True) / m\n",
    "\n",
    "    return dW1, db1, dW2, db2\n",
    "\n",
    "\n",
    "def update_parameters(dW1, db1, dW2, db2):\n",
    "    global W1, b1, W2, b2\n",
    "    W1 -= LEARNING_RATE * dW1\n",
    "    b1 -= LEARNING_RATE * db1\n",
    "    W2 -= LEARNING_RATE * dW2\n",
    "    b2 -= LEARNING_RATE * db2\n",
    "\n",
    "\n",
    "def predict(X):\n",
    "    A2, _ = forward_propagation(X)\n",
    "    return np.argmax(A2, axis=0)\n",
    "\n",
    "\n",
    "def batch_generator(X, y, batch_size):\n",
    "    num_samples = X.shape[0]\n",
    "    indices = np.arange(num_samples)\n",
    "    np.random.shuffle(indices)\n",
    "    for start_idx in range(0, num_samples, batch_size):\n",
    "        end_idx = min(start_idx + batch_size, num_samples)\n",
    "        batch_indices = indices[start_idx:end_idx]\n",
    "        yield X[batch_indices], y[batch_indices]"
   ]
  },
  {
   "cell_type": "markdown",
   "id": "8b16687b",
   "metadata": {},
   "source": [
    "#### Tracking metrics"
   ]
  },
  {
   "cell_type": "code",
   "execution_count": 8,
   "id": "7ef3c998",
   "metadata": {},
   "outputs": [],
   "source": [
    "train_losses = []\n",
    "test_losses = []\n",
    "train_accuracies = []\n",
    "test_accuracies = []\n",
    "\n",
    "\n",
    "best_accuracy = 0\n",
    "best_weights = {}"
   ]
  },
  {
   "cell_type": "markdown",
   "id": "54f87723",
   "metadata": {},
   "source": [
    "#### Tracking metrics"
   ]
  },
  {
   "cell_type": "code",
   "execution_count": 9,
   "id": "955e2067",
   "metadata": {},
   "outputs": [],
   "source": [
    "train_losses = []\n",
    "test_losses = []\n",
    "train_accuracies = []\n",
    "test_accuracies = []\n",
    "\n",
    "best_accuracy = 0\n",
    "best_weights = {}\n",
    "\n",
    "# Training loop\n",
    "for epoch in range(EPOCHS):\n",
    "    epoch_loss = 0\n",
    "    batch_count = 0\n",
    "\n",
    "    for X_batch, y_batch in batch_generator(X_train, y_train, BATCH_SIZE):\n",
    "        A2, cache = forward_propagation(X_batch)\n",
    "        loss = compute_loss(y_batch, A2)\n",
    "        dW1, db1, dW2, db2 = backward_propagation(X_batch, y_batch, cache)\n",
    "        update_parameters(dW1, db1, dW2, db2)\n",
    "        epoch_loss += loss\n",
    "        batch_count += 1\n",
    "\n",
    "    avg_loss = epoch_loss / batch_count"
   ]
  },
  {
   "cell_type": "markdown",
   "id": "e47b8c4f",
   "metadata": {},
   "source": [
    "#### Save best weights"
   ]
  },
  {
   "cell_type": "code",
   "execution_count": null,
   "id": "e39f9d0c",
   "metadata": {},
   "outputs": [],
   "source": [
    "# Save best weights\n",
    "np.save(\"W1_furniture.npy\", best_weights[\"W1\"])\n",
    "np.save(\"b1_furniture.npy\", best_weights[\"b1\"])\n",
    "np.save(\"W2_furniture.npy\", best_weights[\"W2\"])\n",
    "np.save(\"b2_furniture.npy\", best_weights[\"b2\"])\n",
    "print(f\"\\nBest model saved with accuracy: {best_accuracy:.2f}%\")"
   ]
  },
  {
   "cell_type": "markdown",
   "id": "58be7ca8",
   "metadata": {},
   "source": [
    "#### Plot accuracy and loss"
   ]
  },
  {
   "cell_type": "code",
   "execution_count": null,
   "id": "a9bf1234",
   "metadata": {},
   "outputs": [],
   "source": [
    "epochs_range = np.arange(1, EPOCHS + 1)\n",
    "\n",
    "\n",
    "best_epoch = np.argmax(test_accuracies)\n",
    "print(f\"Best epoch: {best_epoch + 1}\")\n",
    "print(f\"Training Accuracy at best epoch: {train_accuracies[best_epoch]:.2f}%\")\n",
    "print(f\"Test Accuracy at best epoch: {test_accuracies[best_epoch]:.2f}%\")\n",
    "\n",
    "plt.figure(figsize=(12, 5))\n",
    "\n",
    "plt.subplot(1, 2, 1)\n",
    "plt.plot(epochs_range, train_losses, label=\"Train Loss\")\n",
    "plt.plot(epochs_range, test_losses, label=\"Test Loss\")\n",
    "plt.title(\"Loss per Epoch\")\n",
    "plt.xlabel(\"Epoch\")\n",
    "plt.ylabel(\"Loss\")\n",
    "plt.legend()\n",
    "\n",
    "plt.subplot(1, 2, 2)\n",
    "plt.plot(epochs_range, train_accuracies, label=\"Train Accuracy\")\n",
    "plt.plot(epochs_range, test_accuracies, label=\"Test Accuracy\")\n",
    "plt.title(\"Accuracy per Epoch\")\n",
    "plt.xlabel(\"Epoch\")\n",
    "plt.ylabel(\"Accuracy (%)\")\n",
    "plt.legend()\n",
    "\n",
    "plt.tight_layout()\n",
    "plt.show()"
   ]
  }
 ],
 "metadata": {
  "kernelspec": {
   "display_name": "Python 3",
   "language": "python",
   "name": "python3"
  },
  "language_info": {
   "codemirror_mode": {
    "name": "ipython",
    "version": 3
   },
   "file_extension": ".py",
   "mimetype": "text/x-python",
   "name": "python",
   "nbconvert_exporter": "python",
   "pygments_lexer": "ipython3",
   "version": "3.12.6"
  }
 },
 "nbformat": 4,
 "nbformat_minor": 5
}
